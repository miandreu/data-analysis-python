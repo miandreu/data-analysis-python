{
 "cells": [
  {
   "cell_type": "markdown",
   "metadata": {},
   "source": [
    "<img src=\"../logo/logo.jpg\">"
   ]
  },
  {
   "cell_type": "markdown",
   "metadata": {
    "toc": "true"
   },
   "source": [
    "# Table of Contents\n",
    " <p><div class=\"lev1 toc-item\"><a href=\"#Combinar-DataFrames\" data-toc-modified-id=\"Combinar-DataFrames-1\"><span class=\"toc-item-num\">1&nbsp;&nbsp;</span>Combinar DataFrames</a></div><div class=\"lev2 toc-item\"><a href=\"#Combinar-tablas-al-estilo-del-álgebra-relacional\" data-toc-modified-id=\"Combinar-tablas-al-estilo-del-álgebra-relacional-11\"><span class=\"toc-item-num\">1.1&nbsp;&nbsp;</span>Combinar tablas al estilo del álgebra relacional</a></div><div class=\"lev2 toc-item\"><a href=\"#Combinar-sobre-índices\" data-toc-modified-id=\"Combinar-sobre-índices-12\"><span class=\"toc-item-num\">1.2&nbsp;&nbsp;</span>Combinar sobre índices</a></div><div class=\"lev2 toc-item\"><a href=\"#Concatenar-en-base-a-un-eje\" data-toc-modified-id=\"Concatenar-en-base-a-un-eje-13\"><span class=\"toc-item-num\">1.3&nbsp;&nbsp;</span>Concatenar en base a un eje</a></div><div class=\"lev2 toc-item\"><a href=\"#Referencias\" data-toc-modified-id=\"Referencias-14\"><span class=\"toc-item-num\">1.4&nbsp;&nbsp;</span>Referencias</a></div>"
   ]
  },
  {
   "cell_type": "markdown",
   "metadata": {},
   "source": [
    "# Combinar DataFrames"
   ]
  },
  {
   "cell_type": "markdown",
   "metadata": {},
   "source": [
    "Cuando la información está distribuía en varios dataframes, antes de proceder al análisis es necesario combinarlos para crear nuevos dataframes con toda la información necesaria. Existen varias herramientas en Pandas para combinar DataFrames. Veamos algunas de ellas junto con algunos ejemplos ilustrativos de su uso."
   ]
  },
  {
   "cell_type": "code",
   "execution_count": 1,
   "metadata": {
    "collapsed": true
   },
   "outputs": [],
   "source": [
    "import pandas as pd"
   ]
  },
  {
   "cell_type": "markdown",
   "metadata": {},
   "source": [
    "## Combinar tablas al estilo del álgebra relacional"
   ]
  },
  {
   "cell_type": "markdown",
   "metadata": {},
   "source": [
    "La función `pd.merge` permite combinar las filas de dos dataframes en función del valor de una o varias columnas. Se trata de la operación *join* al estilo del álgebra relacional. Las columnas de combinación se indican mediante una lista en el argumento `on` de la función. El argumento `how` de la función `pd.merge` permite indicar el tipo de combinación que queremos hacer (`left`, `right`, `outer` o `inner`). El resultado es un nuevo dataframe."
   ]
  },
  {
   "cell_type": "markdown",
   "metadata": {},
   "source": [
    "Supongamos que por un lado tenemos información de la cantidad de producción de ciertos productos en distintos paises européos, y por otro lado la información de esos productos. Los datos se muestran en dos dataframes `t1` y `t2`. "
   ]
  },
  {
   "cell_type": "code",
   "execution_count": 2,
   "metadata": {
    "collapsed": false
   },
   "outputs": [],
   "source": [
    "d1 ={'País' : ['Estonia','Estonia', 'Ireland', 'Spain'],\n",
    "     'Cantidad' : [  8.4,  6.7 ,    227,  58.9 ] , \n",
    "     'Producto' : ['A', 'B', 'A', 'Z'] }\n",
    "     \n",
    "d2 ={'Producto' : ['A', 'B', 'C'],\n",
    "     'Descripción' : [  'Leche',  'Cereales',   'Aceite' ] }\n",
    "    "
   ]
  },
  {
   "cell_type": "code",
   "execution_count": 3,
   "metadata": {
    "collapsed": false
   },
   "outputs": [
    {
     "data": {
      "text/html": [
       "<div>\n",
       "<table border=\"1\" class=\"dataframe\">\n",
       "  <thead>\n",
       "    <tr style=\"text-align: right;\">\n",
       "      <th></th>\n",
       "      <th>Cantidad</th>\n",
       "      <th>País</th>\n",
       "      <th>Producto</th>\n",
       "    </tr>\n",
       "  </thead>\n",
       "  <tbody>\n",
       "    <tr>\n",
       "      <th>0</th>\n",
       "      <td>8.4</td>\n",
       "      <td>Estonia</td>\n",
       "      <td>A</td>\n",
       "    </tr>\n",
       "    <tr>\n",
       "      <th>1</th>\n",
       "      <td>6.7</td>\n",
       "      <td>Estonia</td>\n",
       "      <td>B</td>\n",
       "    </tr>\n",
       "    <tr>\n",
       "      <th>2</th>\n",
       "      <td>227.0</td>\n",
       "      <td>Ireland</td>\n",
       "      <td>A</td>\n",
       "    </tr>\n",
       "    <tr>\n",
       "      <th>3</th>\n",
       "      <td>58.9</td>\n",
       "      <td>Spain</td>\n",
       "      <td>Z</td>\n",
       "    </tr>\n",
       "  </tbody>\n",
       "</table>\n",
       "</div>"
      ],
      "text/plain": [
       "   Cantidad     País Producto\n",
       "0       8.4  Estonia        A\n",
       "1       6.7  Estonia        B\n",
       "2     227.0  Ireland        A\n",
       "3      58.9    Spain        Z"
      ]
     },
     "execution_count": 3,
     "metadata": {},
     "output_type": "execute_result"
    }
   ],
   "source": [
    "t1 = pd.DataFrame( d1 )\n",
    "t1"
   ]
  },
  {
   "cell_type": "code",
   "execution_count": 4,
   "metadata": {
    "collapsed": false
   },
   "outputs": [
    {
     "data": {
      "text/html": [
       "<div>\n",
       "<table border=\"1\" class=\"dataframe\">\n",
       "  <thead>\n",
       "    <tr style=\"text-align: right;\">\n",
       "      <th></th>\n",
       "      <th>Descripción</th>\n",
       "      <th>Producto</th>\n",
       "    </tr>\n",
       "  </thead>\n",
       "  <tbody>\n",
       "    <tr>\n",
       "      <th>0</th>\n",
       "      <td>Leche</td>\n",
       "      <td>A</td>\n",
       "    </tr>\n",
       "    <tr>\n",
       "      <th>1</th>\n",
       "      <td>Cereales</td>\n",
       "      <td>B</td>\n",
       "    </tr>\n",
       "    <tr>\n",
       "      <th>2</th>\n",
       "      <td>Aceite</td>\n",
       "      <td>C</td>\n",
       "    </tr>\n",
       "  </tbody>\n",
       "</table>\n",
       "</div>"
      ],
      "text/plain": [
       "  Descripción Producto\n",
       "0       Leche        A\n",
       "1    Cereales        B\n",
       "2      Aceite        C"
      ]
     },
     "execution_count": 4,
     "metadata": {},
     "output_type": "execute_result"
    }
   ],
   "source": [
    "t2 = pd.DataFrame( d2 )\n",
    "t2"
   ]
  },
  {
   "cell_type": "markdown",
   "metadata": {},
   "source": [
    "Por ejemplo, la función `pd.merge` permite combinar los dataframes `t1` y `t2`  usando como campos de combinación la columna `Producto`. Veamos ejemplos con distintas opciones:"
   ]
  },
  {
   "cell_type": "code",
   "execution_count": 5,
   "metadata": {
    "collapsed": false
   },
   "outputs": [
    {
     "data": {
      "text/html": [
       "<div>\n",
       "<table border=\"1\" class=\"dataframe\">\n",
       "  <thead>\n",
       "    <tr style=\"text-align: right;\">\n",
       "      <th></th>\n",
       "      <th>Cantidad</th>\n",
       "      <th>País</th>\n",
       "      <th>Producto</th>\n",
       "      <th>Descripción</th>\n",
       "    </tr>\n",
       "  </thead>\n",
       "  <tbody>\n",
       "    <tr>\n",
       "      <th>0</th>\n",
       "      <td>8.4</td>\n",
       "      <td>Estonia</td>\n",
       "      <td>A</td>\n",
       "      <td>Leche</td>\n",
       "    </tr>\n",
       "    <tr>\n",
       "      <th>1</th>\n",
       "      <td>227.0</td>\n",
       "      <td>Ireland</td>\n",
       "      <td>A</td>\n",
       "      <td>Leche</td>\n",
       "    </tr>\n",
       "    <tr>\n",
       "      <th>2</th>\n",
       "      <td>6.7</td>\n",
       "      <td>Estonia</td>\n",
       "      <td>B</td>\n",
       "      <td>Cereales</td>\n",
       "    </tr>\n",
       "  </tbody>\n",
       "</table>\n",
       "</div>"
      ],
      "text/plain": [
       "   Cantidad     País Producto Descripción\n",
       "0       8.4  Estonia        A       Leche\n",
       "1     227.0  Ireland        A       Leche\n",
       "2       6.7  Estonia        B    Cereales"
      ]
     },
     "execution_count": 5,
     "metadata": {},
     "output_type": "execute_result"
    }
   ],
   "source": [
    "result = pd.merge(t1, t2, on = ['Producto'])               \n",
    "result"
   ]
  },
  {
   "cell_type": "markdown",
   "metadata": {},
   "source": [
    "Por defecto la función `pd.merge` realiza la operación `inner`. La opción `inner` combina los dataframes devolviendo únicamente aquellas filas que tienen valores idénticos en las columnas que se comparan. "
   ]
  },
  {
   "cell_type": "code",
   "execution_count": 6,
   "metadata": {
    "collapsed": false
   },
   "outputs": [
    {
     "data": {
      "text/html": [
       "<div>\n",
       "<table border=\"1\" class=\"dataframe\">\n",
       "  <thead>\n",
       "    <tr style=\"text-align: right;\">\n",
       "      <th></th>\n",
       "      <th>Cantidad</th>\n",
       "      <th>País</th>\n",
       "      <th>Producto</th>\n",
       "      <th>Descripción</th>\n",
       "    </tr>\n",
       "  </thead>\n",
       "  <tbody>\n",
       "    <tr>\n",
       "      <th>0</th>\n",
       "      <td>8.4</td>\n",
       "      <td>Estonia</td>\n",
       "      <td>A</td>\n",
       "      <td>Leche</td>\n",
       "    </tr>\n",
       "    <tr>\n",
       "      <th>1</th>\n",
       "      <td>227.0</td>\n",
       "      <td>Ireland</td>\n",
       "      <td>A</td>\n",
       "      <td>Leche</td>\n",
       "    </tr>\n",
       "    <tr>\n",
       "      <th>2</th>\n",
       "      <td>6.7</td>\n",
       "      <td>Estonia</td>\n",
       "      <td>B</td>\n",
       "      <td>Cereales</td>\n",
       "    </tr>\n",
       "  </tbody>\n",
       "</table>\n",
       "</div>"
      ],
      "text/plain": [
       "   Cantidad     País Producto Descripción\n",
       "0       8.4  Estonia        A       Leche\n",
       "1     227.0  Ireland        A       Leche\n",
       "2       6.7  Estonia        B    Cereales"
      ]
     },
     "execution_count": 6,
     "metadata": {},
     "output_type": "execute_result"
    }
   ],
   "source": [
    "result = pd.merge(t1, t2, on=['Producto'], how = 'inner')               \n",
    "result"
   ]
  },
  {
   "cell_type": "markdown",
   "metadata": {},
   "source": [
    "En el ejemplo anterior, podemos observar que desaparecen las filas donde el valor de la columna `Producto` tiene valores `C` y `Z`. "
   ]
  },
  {
   "cell_type": "markdown",
   "metadata": {},
   "source": [
    "La opción `left` combina dos dataframes devolviendo aquellas filas que tienen valores idénticos en las columnas que se comparan para unir ambas tablas, y todas las filas del dataframe de la izquierda, tengan o no correspondencia con las filas del dataframe de la derecha. Las que no tengan correspondencia se rellenan con `NaN`."
   ]
  },
  {
   "cell_type": "code",
   "execution_count": 7,
   "metadata": {
    "collapsed": false
   },
   "outputs": [
    {
     "data": {
      "text/html": [
       "<div>\n",
       "<table border=\"1\" class=\"dataframe\">\n",
       "  <thead>\n",
       "    <tr style=\"text-align: right;\">\n",
       "      <th></th>\n",
       "      <th>Cantidad</th>\n",
       "      <th>País</th>\n",
       "      <th>Producto</th>\n",
       "      <th>Descripción</th>\n",
       "    </tr>\n",
       "  </thead>\n",
       "  <tbody>\n",
       "    <tr>\n",
       "      <th>0</th>\n",
       "      <td>8.4</td>\n",
       "      <td>Estonia</td>\n",
       "      <td>A</td>\n",
       "      <td>Leche</td>\n",
       "    </tr>\n",
       "    <tr>\n",
       "      <th>1</th>\n",
       "      <td>6.7</td>\n",
       "      <td>Estonia</td>\n",
       "      <td>B</td>\n",
       "      <td>Cereales</td>\n",
       "    </tr>\n",
       "    <tr>\n",
       "      <th>2</th>\n",
       "      <td>227.0</td>\n",
       "      <td>Ireland</td>\n",
       "      <td>A</td>\n",
       "      <td>Leche</td>\n",
       "    </tr>\n",
       "    <tr>\n",
       "      <th>3</th>\n",
       "      <td>58.9</td>\n",
       "      <td>Spain</td>\n",
       "      <td>Z</td>\n",
       "      <td>NaN</td>\n",
       "    </tr>\n",
       "  </tbody>\n",
       "</table>\n",
       "</div>"
      ],
      "text/plain": [
       "   Cantidad     País Producto Descripción\n",
       "0       8.4  Estonia        A       Leche\n",
       "1       6.7  Estonia        B    Cereales\n",
       "2     227.0  Ireland        A       Leche\n",
       "3      58.9    Spain        Z         NaN"
      ]
     },
     "execution_count": 7,
     "metadata": {},
     "output_type": "execute_result"
    }
   ],
   "source": [
    "result = pd.merge(t1, t2, on=['Producto'], how='left')\n",
    "result"
   ]
  },
  {
   "cell_type": "markdown",
   "metadata": {},
   "source": [
    "En este caso, no existe el valor `Z` en la columna `Producto` del dataframe de la derecha, por lo que el valor de la columna `Descripción` pasa a ser `NaN`. "
   ]
  },
  {
   "cell_type": "markdown",
   "metadata": {},
   "source": [
    "Análogamente, la opción `right` combina dos dataframes devolviendo como resultado aquellas filas que tienen valores idénticos en las columnas que se comparan para unir ambas datframes, y todas las filas del dataframe de la derecha, tengan o no correspondencia con las filas del dataframe de la izquierda. Las que no tengan correspondencia se rellenan con `NaN`."
   ]
  },
  {
   "cell_type": "code",
   "execution_count": 8,
   "metadata": {
    "collapsed": false
   },
   "outputs": [
    {
     "data": {
      "text/html": [
       "<div>\n",
       "<table border=\"1\" class=\"dataframe\">\n",
       "  <thead>\n",
       "    <tr style=\"text-align: right;\">\n",
       "      <th></th>\n",
       "      <th>Cantidad</th>\n",
       "      <th>País</th>\n",
       "      <th>Producto</th>\n",
       "      <th>Descripción</th>\n",
       "    </tr>\n",
       "  </thead>\n",
       "  <tbody>\n",
       "    <tr>\n",
       "      <th>0</th>\n",
       "      <td>8.4</td>\n",
       "      <td>Estonia</td>\n",
       "      <td>A</td>\n",
       "      <td>Leche</td>\n",
       "    </tr>\n",
       "    <tr>\n",
       "      <th>1</th>\n",
       "      <td>227.0</td>\n",
       "      <td>Ireland</td>\n",
       "      <td>A</td>\n",
       "      <td>Leche</td>\n",
       "    </tr>\n",
       "    <tr>\n",
       "      <th>2</th>\n",
       "      <td>6.7</td>\n",
       "      <td>Estonia</td>\n",
       "      <td>B</td>\n",
       "      <td>Cereales</td>\n",
       "    </tr>\n",
       "    <tr>\n",
       "      <th>3</th>\n",
       "      <td>NaN</td>\n",
       "      <td>NaN</td>\n",
       "      <td>C</td>\n",
       "      <td>Aceite</td>\n",
       "    </tr>\n",
       "  </tbody>\n",
       "</table>\n",
       "</div>"
      ],
      "text/plain": [
       "   Cantidad     País Producto Descripción\n",
       "0       8.4  Estonia        A       Leche\n",
       "1     227.0  Ireland        A       Leche\n",
       "2       6.7  Estonia        B    Cereales\n",
       "3       NaN      NaN        C      Aceite"
      ]
     },
     "execution_count": 8,
     "metadata": {},
     "output_type": "execute_result"
    }
   ],
   "source": [
    "result = pd.merge(t1, t2, how='right', on=['Producto'])\n",
    "result"
   ]
  },
  {
   "cell_type": "markdown",
   "metadata": {},
   "source": [
    "La opción `outer` combina los dos datframes devolviendo la unión de las filas devueltas por la opción `left` y `right`:"
   ]
  },
  {
   "cell_type": "code",
   "execution_count": 9,
   "metadata": {
    "collapsed": false
   },
   "outputs": [
    {
     "data": {
      "text/html": [
       "<div>\n",
       "<table border=\"1\" class=\"dataframe\">\n",
       "  <thead>\n",
       "    <tr style=\"text-align: right;\">\n",
       "      <th></th>\n",
       "      <th>Cantidad</th>\n",
       "      <th>País</th>\n",
       "      <th>Producto</th>\n",
       "      <th>Descripción</th>\n",
       "    </tr>\n",
       "  </thead>\n",
       "  <tbody>\n",
       "    <tr>\n",
       "      <th>0</th>\n",
       "      <td>8.4</td>\n",
       "      <td>Estonia</td>\n",
       "      <td>A</td>\n",
       "      <td>Leche</td>\n",
       "    </tr>\n",
       "    <tr>\n",
       "      <th>1</th>\n",
       "      <td>227.0</td>\n",
       "      <td>Ireland</td>\n",
       "      <td>A</td>\n",
       "      <td>Leche</td>\n",
       "    </tr>\n",
       "    <tr>\n",
       "      <th>2</th>\n",
       "      <td>6.7</td>\n",
       "      <td>Estonia</td>\n",
       "      <td>B</td>\n",
       "      <td>Cereales</td>\n",
       "    </tr>\n",
       "    <tr>\n",
       "      <th>3</th>\n",
       "      <td>58.9</td>\n",
       "      <td>Spain</td>\n",
       "      <td>Z</td>\n",
       "      <td>NaN</td>\n",
       "    </tr>\n",
       "    <tr>\n",
       "      <th>4</th>\n",
       "      <td>NaN</td>\n",
       "      <td>NaN</td>\n",
       "      <td>C</td>\n",
       "      <td>Aceite</td>\n",
       "    </tr>\n",
       "  </tbody>\n",
       "</table>\n",
       "</div>"
      ],
      "text/plain": [
       "   Cantidad     País Producto Descripción\n",
       "0       8.4  Estonia        A       Leche\n",
       "1     227.0  Ireland        A       Leche\n",
       "2       6.7  Estonia        B    Cereales\n",
       "3      58.9    Spain        Z         NaN\n",
       "4       NaN      NaN        C      Aceite"
      ]
     },
     "execution_count": 9,
     "metadata": {},
     "output_type": "execute_result"
    }
   ],
   "source": [
    "result = pd.merge(t1, t2,  how='outer', on=['Producto'])\n",
    "result"
   ]
  },
  {
   "cell_type": "markdown",
   "metadata": {},
   "source": [
    "La función `pd.merge` es muy rica en funcionalidad y los resultados dependen del valor de sus argumentos. Con lo visto anteriormente, podríamos suponer que para poder combinar dos dataframes es necesario que las columnas de combinación se llamen igual. Veamos que esto no es así. "
   ]
  },
  {
   "cell_type": "code",
   "execution_count": 10,
   "metadata": {
    "collapsed": false
   },
   "outputs": [
    {
     "data": {
      "text/html": [
       "<div>\n",
       "<table border=\"1\" class=\"dataframe\">\n",
       "  <thead>\n",
       "    <tr style=\"text-align: right;\">\n",
       "      <th></th>\n",
       "      <th>Descripción</th>\n",
       "      <th>Id.Producto</th>\n",
       "    </tr>\n",
       "  </thead>\n",
       "  <tbody>\n",
       "    <tr>\n",
       "      <th>0</th>\n",
       "      <td>Leche</td>\n",
       "      <td>A</td>\n",
       "    </tr>\n",
       "    <tr>\n",
       "      <th>1</th>\n",
       "      <td>Cereales</td>\n",
       "      <td>B</td>\n",
       "    </tr>\n",
       "    <tr>\n",
       "      <th>2</th>\n",
       "      <td>Aceite</td>\n",
       "      <td>C</td>\n",
       "    </tr>\n",
       "  </tbody>\n",
       "</table>\n",
       "</div>"
      ],
      "text/plain": [
       "  Descripción Id.Producto\n",
       "0       Leche           A\n",
       "1    Cereales           B\n",
       "2      Aceite           C"
      ]
     },
     "execution_count": 10,
     "metadata": {},
     "output_type": "execute_result"
    }
   ],
   "source": [
    "d3 ={'Id.Producto' : ['A', 'B', 'C'],\n",
    "     'Descripción' : [  'Leche',  'Cereales',   'Aceite' ] }\n",
    "t3 = pd.DataFrame( d3 )\n",
    "t3"
   ]
  },
  {
   "cell_type": "markdown",
   "metadata": {},
   "source": [
    "Usamos los argumentos `left_on` y `right_on` en lugar de `on` para indicar las columnas de combinación de los dataframes de la izquierda y derecha respectivamente:"
   ]
  },
  {
   "cell_type": "code",
   "execution_count": 11,
   "metadata": {
    "collapsed": false
   },
   "outputs": [
    {
     "data": {
      "text/html": [
       "<div>\n",
       "<table border=\"1\" class=\"dataframe\">\n",
       "  <thead>\n",
       "    <tr style=\"text-align: right;\">\n",
       "      <th></th>\n",
       "      <th>Cantidad</th>\n",
       "      <th>País</th>\n",
       "      <th>Producto</th>\n",
       "      <th>Descripción</th>\n",
       "      <th>Id.Producto</th>\n",
       "    </tr>\n",
       "  </thead>\n",
       "  <tbody>\n",
       "    <tr>\n",
       "      <th>0</th>\n",
       "      <td>8.4</td>\n",
       "      <td>Estonia</td>\n",
       "      <td>A</td>\n",
       "      <td>Leche</td>\n",
       "      <td>A</td>\n",
       "    </tr>\n",
       "    <tr>\n",
       "      <th>1</th>\n",
       "      <td>227.0</td>\n",
       "      <td>Ireland</td>\n",
       "      <td>A</td>\n",
       "      <td>Leche</td>\n",
       "      <td>A</td>\n",
       "    </tr>\n",
       "    <tr>\n",
       "      <th>2</th>\n",
       "      <td>6.7</td>\n",
       "      <td>Estonia</td>\n",
       "      <td>B</td>\n",
       "      <td>Cereales</td>\n",
       "      <td>B</td>\n",
       "    </tr>\n",
       "  </tbody>\n",
       "</table>\n",
       "</div>"
      ],
      "text/plain": [
       "   Cantidad     País Producto Descripción Id.Producto\n",
       "0       8.4  Estonia        A       Leche           A\n",
       "1     227.0  Ireland        A       Leche           A\n",
       "2       6.7  Estonia        B    Cereales           B"
      ]
     },
     "execution_count": 11,
     "metadata": {},
     "output_type": "execute_result"
    }
   ],
   "source": [
    "result = pd.merge(t1, t3,  left_on = 'Producto', right_on = 'Id.Producto')\n",
    "result"
   ]
  },
  {
   "cell_type": "markdown",
   "metadata": {},
   "source": [
    "## Combinar sobre índices"
   ]
  },
  {
   "cell_type": "markdown",
   "metadata": {},
   "source": [
    "En algunos casos, el valor de comparación no se encuentra en las columnas, sino en el índice del dataframe. \n",
    "\n",
    "Supongamos que tenemos los dataframes `t4` y `t5`:"
   ]
  },
  {
   "cell_type": "code",
   "execution_count": 12,
   "metadata": {
    "collapsed": false
   },
   "outputs": [
    {
     "data": {
      "text/html": [
       "<div>\n",
       "<table border=\"1\" class=\"dataframe\">\n",
       "  <thead>\n",
       "    <tr style=\"text-align: right;\">\n",
       "      <th></th>\n",
       "      <th>Densidad 2005</th>\n",
       "      <th>Densidad 2015</th>\n",
       "    </tr>\n",
       "  </thead>\n",
       "  <tbody>\n",
       "    <tr>\n",
       "      <th>ES</th>\n",
       "      <td>92</td>\n",
       "      <td>89</td>\n",
       "    </tr>\n",
       "    <tr>\n",
       "      <th>AL</th>\n",
       "      <td>230</td>\n",
       "      <td>231</td>\n",
       "    </tr>\n",
       "    <tr>\n",
       "      <th>IT</th>\n",
       "      <td>201</td>\n",
       "      <td>193</td>\n",
       "    </tr>\n",
       "    <tr>\n",
       "      <th>CH</th>\n",
       "      <td>144</td>\n",
       "      <td>137</td>\n",
       "    </tr>\n",
       "  </tbody>\n",
       "</table>\n",
       "</div>"
      ],
      "text/plain": [
       "    Densidad 2005  Densidad 2015\n",
       "ES             92             89\n",
       "AL            230            231\n",
       "IT            201            193\n",
       "CH            144            137"
      ]
     },
     "execution_count": 12,
     "metadata": {},
     "output_type": "execute_result"
    }
   ],
   "source": [
    "t4 = pd.DataFrame( data = [ (92, 89), \n",
    "                                (230, 231),\n",
    "                                (201 , 193),\n",
    "                                (144, 137)                                ],\n",
    "                       columns =  [ 'Densidad 2005', 'Densidad 2015'], \n",
    "                       index = [ 'ES', 'AL', 'IT', 'CH'])\n",
    "t4"
   ]
  },
  {
   "cell_type": "code",
   "execution_count": 13,
   "metadata": {
    "collapsed": false
   },
   "outputs": [
    {
     "data": {
      "text/html": [
       "<div>\n",
       "<table border=\"1\" class=\"dataframe\">\n",
       "  <thead>\n",
       "    <tr style=\"text-align: right;\">\n",
       "      <th></th>\n",
       "      <th>País</th>\n",
       "      <th>Pob 2015</th>\n",
       "    </tr>\n",
       "  </thead>\n",
       "  <tbody>\n",
       "    <tr>\n",
       "      <th>ES</th>\n",
       "      <td>España</td>\n",
       "      <td>46449</td>\n",
       "    </tr>\n",
       "    <tr>\n",
       "      <th>AL</th>\n",
       "      <td>Alemania</td>\n",
       "      <td>81197</td>\n",
       "    </tr>\n",
       "    <tr>\n",
       "      <th>JP</th>\n",
       "      <td>Japón</td>\n",
       "      <td>127120</td>\n",
       "    </tr>\n",
       "  </tbody>\n",
       "</table>\n",
       "</div>"
      ],
      "text/plain": [
       "        País  Pob 2015\n",
       "ES    España     46449\n",
       "AL  Alemania     81197\n",
       "JP     Japón    127120"
      ]
     },
     "execution_count": 13,
     "metadata": {},
     "output_type": "execute_result"
    }
   ],
   "source": [
    "t5 = pd.DataFrame( data = [ ('España', 46449), \n",
    "                                ('Alemania',81197),\n",
    "                                          ('Japón',127120) ],\n",
    "                       columns =  ['País', 'Pob 2015'], \n",
    "                       index = [ 'ES', 'AL', 'JP'])\n",
    "t5"
   ]
  },
  {
   "cell_type": "markdown",
   "metadata": {},
   "source": [
    "Si queremos combinar ambos dataframes usando el valor del índice de ambos, usaremos los argumentos `left_index` y `right_index` como se muestra a continuación:"
   ]
  },
  {
   "cell_type": "code",
   "execution_count": 14,
   "metadata": {
    "collapsed": false
   },
   "outputs": [
    {
     "data": {
      "text/html": [
       "<div>\n",
       "<table border=\"1\" class=\"dataframe\">\n",
       "  <thead>\n",
       "    <tr style=\"text-align: right;\">\n",
       "      <th></th>\n",
       "      <th>Densidad 2005</th>\n",
       "      <th>Densidad 2015</th>\n",
       "      <th>País</th>\n",
       "      <th>Pob 2015</th>\n",
       "    </tr>\n",
       "  </thead>\n",
       "  <tbody>\n",
       "    <tr>\n",
       "      <th>ES</th>\n",
       "      <td>92</td>\n",
       "      <td>89</td>\n",
       "      <td>España</td>\n",
       "      <td>46449.0</td>\n",
       "    </tr>\n",
       "    <tr>\n",
       "      <th>AL</th>\n",
       "      <td>230</td>\n",
       "      <td>231</td>\n",
       "      <td>Alemania</td>\n",
       "      <td>81197.0</td>\n",
       "    </tr>\n",
       "    <tr>\n",
       "      <th>IT</th>\n",
       "      <td>201</td>\n",
       "      <td>193</td>\n",
       "      <td>NaN</td>\n",
       "      <td>NaN</td>\n",
       "    </tr>\n",
       "    <tr>\n",
       "      <th>CH</th>\n",
       "      <td>144</td>\n",
       "      <td>137</td>\n",
       "      <td>NaN</td>\n",
       "      <td>NaN</td>\n",
       "    </tr>\n",
       "  </tbody>\n",
       "</table>\n",
       "</div>"
      ],
      "text/plain": [
       "    Densidad 2005  Densidad 2015      País  Pob 2015\n",
       "ES             92             89    España   46449.0\n",
       "AL            230            231  Alemania   81197.0\n",
       "IT            201            193       NaN       NaN\n",
       "CH            144            137       NaN       NaN"
      ]
     },
     "execution_count": 14,
     "metadata": {},
     "output_type": "execute_result"
    }
   ],
   "source": [
    "result = pd.merge(t4, t5, how = 'left', left_index = True, right_index = True)\n",
    "result"
   ]
  },
  {
   "cell_type": "markdown",
   "metadata": {},
   "source": [
    "También podemos combinar los dataframes indicando una columna de combinación de un dataframe  y el índice del otro dataframe:"
   ]
  },
  {
   "cell_type": "code",
   "execution_count": 15,
   "metadata": {
    "collapsed": false
   },
   "outputs": [
    {
     "data": {
      "text/html": [
       "<div>\n",
       "<table border=\"1\" class=\"dataframe\">\n",
       "  <thead>\n",
       "    <tr style=\"text-align: right;\">\n",
       "      <th></th>\n",
       "      <th>País</th>\n",
       "      <th>Código</th>\n",
       "      <th>Pob 2015</th>\n",
       "    </tr>\n",
       "  </thead>\n",
       "  <tbody>\n",
       "    <tr>\n",
       "      <th>0</th>\n",
       "      <td>España</td>\n",
       "      <td>ES</td>\n",
       "      <td>46449</td>\n",
       "    </tr>\n",
       "    <tr>\n",
       "      <th>1</th>\n",
       "      <td>Alemania</td>\n",
       "      <td>AL</td>\n",
       "      <td>81197</td>\n",
       "    </tr>\n",
       "    <tr>\n",
       "      <th>2</th>\n",
       "      <td>Japón</td>\n",
       "      <td>JP</td>\n",
       "      <td>127120</td>\n",
       "    </tr>\n",
       "  </tbody>\n",
       "</table>\n",
       "</div>"
      ],
      "text/plain": [
       "       País Código  Pob 2015\n",
       "0    España     ES     46449\n",
       "1  Alemania     AL     81197\n",
       "2     Japón     JP    127120"
      ]
     },
     "execution_count": 15,
     "metadata": {},
     "output_type": "execute_result"
    }
   ],
   "source": [
    "t6 = pd.DataFrame( data = [ ('España', 'ES', 46449), \n",
    "                            ('Alemania', 'AL' , 81197),\n",
    "                            ('Japón', 'JP', 127120) ],\n",
    "                       columns =  ['País', 'Código', 'Pob 2015'])\n",
    "t6"
   ]
  },
  {
   "cell_type": "code",
   "execution_count": 16,
   "metadata": {
    "collapsed": false
   },
   "outputs": [
    {
     "data": {
      "text/html": [
       "<div>\n",
       "<table border=\"1\" class=\"dataframe\">\n",
       "  <thead>\n",
       "    <tr style=\"text-align: right;\">\n",
       "      <th></th>\n",
       "      <th>País</th>\n",
       "      <th>Código</th>\n",
       "      <th>Pob 2015</th>\n",
       "      <th>Densidad 2005</th>\n",
       "      <th>Densidad 2015</th>\n",
       "    </tr>\n",
       "  </thead>\n",
       "  <tbody>\n",
       "    <tr>\n",
       "      <th>0</th>\n",
       "      <td>España</td>\n",
       "      <td>ES</td>\n",
       "      <td>46449</td>\n",
       "      <td>92.0</td>\n",
       "      <td>89.0</td>\n",
       "    </tr>\n",
       "    <tr>\n",
       "      <th>1</th>\n",
       "      <td>Alemania</td>\n",
       "      <td>AL</td>\n",
       "      <td>81197</td>\n",
       "      <td>230.0</td>\n",
       "      <td>231.0</td>\n",
       "    </tr>\n",
       "    <tr>\n",
       "      <th>2</th>\n",
       "      <td>Japón</td>\n",
       "      <td>JP</td>\n",
       "      <td>127120</td>\n",
       "      <td>NaN</td>\n",
       "      <td>NaN</td>\n",
       "    </tr>\n",
       "  </tbody>\n",
       "</table>\n",
       "</div>"
      ],
      "text/plain": [
       "       País Código  Pob 2015  Densidad 2005  Densidad 2015\n",
       "0    España     ES     46449           92.0           89.0\n",
       "1  Alemania     AL     81197          230.0          231.0\n",
       "2     Japón     JP    127120            NaN            NaN"
      ]
     },
     "execution_count": 16,
     "metadata": {},
     "output_type": "execute_result"
    }
   ],
   "source": [
    "result = pd.merge(t6, t4, how = 'left', left_on = 'Código',  right_index = True)\n",
    "result"
   ]
  },
  {
   "cell_type": "markdown",
   "metadata": {},
   "source": [
    "Cuando la combinación de dataframes se realiza en base a los índices, resulta más apropiado utilizar el método `join` de la clase DataFrame. El único requisito para poder utilizar esta operación es que los dataframes involucrados no tengan columnas con el mismo nombre."
   ]
  },
  {
   "cell_type": "code",
   "execution_count": 17,
   "metadata": {
    "collapsed": false
   },
   "outputs": [
    {
     "data": {
      "text/html": [
       "<div>\n",
       "<table border=\"1\" class=\"dataframe\">\n",
       "  <thead>\n",
       "    <tr style=\"text-align: right;\">\n",
       "      <th></th>\n",
       "      <th>Densidad 2005</th>\n",
       "      <th>Densidad 2015</th>\n",
       "      <th>País</th>\n",
       "      <th>Pob 2015</th>\n",
       "    </tr>\n",
       "  </thead>\n",
       "  <tbody>\n",
       "    <tr>\n",
       "      <th>ES</th>\n",
       "      <td>92</td>\n",
       "      <td>89</td>\n",
       "      <td>España</td>\n",
       "      <td>46449.0</td>\n",
       "    </tr>\n",
       "    <tr>\n",
       "      <th>AL</th>\n",
       "      <td>230</td>\n",
       "      <td>231</td>\n",
       "      <td>Alemania</td>\n",
       "      <td>81197.0</td>\n",
       "    </tr>\n",
       "    <tr>\n",
       "      <th>IT</th>\n",
       "      <td>201</td>\n",
       "      <td>193</td>\n",
       "      <td>NaN</td>\n",
       "      <td>NaN</td>\n",
       "    </tr>\n",
       "    <tr>\n",
       "      <th>CH</th>\n",
       "      <td>144</td>\n",
       "      <td>137</td>\n",
       "      <td>NaN</td>\n",
       "      <td>NaN</td>\n",
       "    </tr>\n",
       "  </tbody>\n",
       "</table>\n",
       "</div>"
      ],
      "text/plain": [
       "    Densidad 2005  Densidad 2015      País  Pob 2015\n",
       "ES             92             89    España   46449.0\n",
       "AL            230            231  Alemania   81197.0\n",
       "IT            201            193       NaN       NaN\n",
       "CH            144            137       NaN       NaN"
      ]
     },
     "execution_count": 17,
     "metadata": {},
     "output_type": "execute_result"
    }
   ],
   "source": [
    "t4.join(t5)"
   ]
  },
  {
   "cell_type": "markdown",
   "metadata": {},
   "source": [
    "## Concatenar en base a un eje"
   ]
  },
  {
   "cell_type": "markdown",
   "metadata": {},
   "source": [
    "La función `pd.concat` de Pandas permite construir nuevos objetos de tipo `Series` o  `Dataframe` en base a uno de los ejes. Ya vimos las funciones `hstack` y `vstack` definidas en la librería Numpy para apilar arrays horizontal y verticalmente respectivamente. En el caso de Pandas es un poco más complicado, ya que no podemos olvidar que tenemos etiquetas, tanto para las filas como para las columnas.\n",
    "\n",
    "Veamos algunos ejemplos que muestren el comportamiento de la función `pd.concat`,  tanto para series como para dataframes. Supongamos que tenemos dos series `s1`y `s2`:"
   ]
  },
  {
   "cell_type": "code",
   "execution_count": 18,
   "metadata": {
    "collapsed": false
   },
   "outputs": [
    {
     "data": {
      "text/plain": [
       "ES     89\n",
       "AL    231\n",
       "JP    336\n",
       "dtype: int64"
      ]
     },
     "execution_count": 18,
     "metadata": {},
     "output_type": "execute_result"
    }
   ],
   "source": [
    "s1 = pd.Series( [89, 231, 336],                     \n",
    "                index = [ 'ES', 'AL', 'JP'])\n",
    "s1"
   ]
  },
  {
   "cell_type": "code",
   "execution_count": 19,
   "metadata": {
    "collapsed": false
   },
   "outputs": [
    {
     "data": {
      "text/plain": [
       "ES    100\n",
       "IT    201\n",
       "CH    144\n",
       "dtype: int64"
      ]
     },
     "execution_count": 19,
     "metadata": {},
     "output_type": "execute_result"
    }
   ],
   "source": [
    "s2 = pd.Series( [100, 201 , 144],\n",
    "                    index = [ 'ES', 'IT', 'CH'])\n",
    "s2"
   ]
  },
  {
   "cell_type": "markdown",
   "metadata": {},
   "source": [
    "En este caso, podemos usar la función `pd.concat` para apilar verticalmente tanto los índices como los valores. Para ello usaremos el argumento `axis` con valor 0:"
   ]
  },
  {
   "cell_type": "code",
   "execution_count": 20,
   "metadata": {
    "collapsed": false
   },
   "outputs": [
    {
     "data": {
      "text/plain": [
       "ES     89\n",
       "AL    231\n",
       "JP    336\n",
       "ES    100\n",
       "IT    201\n",
       "CH    144\n",
       "dtype: int64"
      ]
     },
     "execution_count": 20,
     "metadata": {},
     "output_type": "execute_result"
    }
   ],
   "source": [
    "result = pd.concat([s1, s2], axis = 0)               \n",
    "result"
   ]
  },
  {
   "cell_type": "markdown",
   "metadata": {},
   "source": [
    "También podemos apilar horizontalmente usando el argumento `axis` con valor 1:"
   ]
  },
  {
   "cell_type": "code",
   "execution_count": 21,
   "metadata": {
    "collapsed": false
   },
   "outputs": [
    {
     "data": {
      "text/html": [
       "<div>\n",
       "<table border=\"1\" class=\"dataframe\">\n",
       "  <thead>\n",
       "    <tr style=\"text-align: right;\">\n",
       "      <th></th>\n",
       "      <th>0</th>\n",
       "      <th>1</th>\n",
       "    </tr>\n",
       "  </thead>\n",
       "  <tbody>\n",
       "    <tr>\n",
       "      <th>AL</th>\n",
       "      <td>231.0</td>\n",
       "      <td>NaN</td>\n",
       "    </tr>\n",
       "    <tr>\n",
       "      <th>CH</th>\n",
       "      <td>NaN</td>\n",
       "      <td>144.0</td>\n",
       "    </tr>\n",
       "    <tr>\n",
       "      <th>ES</th>\n",
       "      <td>89.0</td>\n",
       "      <td>100.0</td>\n",
       "    </tr>\n",
       "    <tr>\n",
       "      <th>IT</th>\n",
       "      <td>NaN</td>\n",
       "      <td>201.0</td>\n",
       "    </tr>\n",
       "    <tr>\n",
       "      <th>JP</th>\n",
       "      <td>336.0</td>\n",
       "      <td>NaN</td>\n",
       "    </tr>\n",
       "  </tbody>\n",
       "</table>\n",
       "</div>"
      ],
      "text/plain": [
       "        0      1\n",
       "AL  231.0    NaN\n",
       "CH    NaN  144.0\n",
       "ES   89.0  100.0\n",
       "IT    NaN  201.0\n",
       "JP  336.0    NaN"
      ]
     },
     "execution_count": 21,
     "metadata": {},
     "output_type": "execute_result"
    }
   ],
   "source": [
    "result = pd.concat([s1, s2], axis = 1)               \n",
    "result"
   ]
  },
  {
   "cell_type": "markdown",
   "metadata": {},
   "source": [
    "El siguiente código permite apilar horizontalmente añadiendo el nombre a las columnas. Para ello hemos usado el argumento `keys`:"
   ]
  },
  {
   "cell_type": "code",
   "execution_count": 22,
   "metadata": {
    "collapsed": false
   },
   "outputs": [
    {
     "data": {
      "text/html": [
       "<div>\n",
       "<table border=\"1\" class=\"dataframe\">\n",
       "  <thead>\n",
       "    <tr style=\"text-align: right;\">\n",
       "      <th></th>\n",
       "      <th>Col 1</th>\n",
       "      <th>Col 2</th>\n",
       "    </tr>\n",
       "  </thead>\n",
       "  <tbody>\n",
       "    <tr>\n",
       "      <th>AL</th>\n",
       "      <td>231.0</td>\n",
       "      <td>NaN</td>\n",
       "    </tr>\n",
       "    <tr>\n",
       "      <th>CH</th>\n",
       "      <td>NaN</td>\n",
       "      <td>144.0</td>\n",
       "    </tr>\n",
       "    <tr>\n",
       "      <th>ES</th>\n",
       "      <td>89.0</td>\n",
       "      <td>100.0</td>\n",
       "    </tr>\n",
       "    <tr>\n",
       "      <th>IT</th>\n",
       "      <td>NaN</td>\n",
       "      <td>201.0</td>\n",
       "    </tr>\n",
       "    <tr>\n",
       "      <th>JP</th>\n",
       "      <td>336.0</td>\n",
       "      <td>NaN</td>\n",
       "    </tr>\n",
       "  </tbody>\n",
       "</table>\n",
       "</div>"
      ],
      "text/plain": [
       "    Col 1  Col 2\n",
       "AL  231.0    NaN\n",
       "CH    NaN  144.0\n",
       "ES   89.0  100.0\n",
       "IT    NaN  201.0\n",
       "JP  336.0    NaN"
      ]
     },
     "execution_count": 22,
     "metadata": {},
     "output_type": "execute_result"
    }
   ],
   "source": [
    "result = pd.concat([s1, s2], axis = 1, keys = ['Col 1', 'Col 2'])               \n",
    "result"
   ]
  },
  {
   "cell_type": "markdown",
   "metadata": {},
   "source": [
    "Para el caso de objetos de tipo `DataFrame` la mecánica es similar. En el siguiente ejemplo creamos dos dataframes `df1` y  `df2` :"
   ]
  },
  {
   "cell_type": "code",
   "execution_count": 23,
   "metadata": {
    "collapsed": false
   },
   "outputs": [],
   "source": [
    "d1 ={'País' : ['Estonia', 'Irlanda', 'Epaña'],\n",
    "     'Cantidad' : [  8.4,   227,  58.9 ] }\n",
    "     \n",
    "d2 ={'Producto' : ['A', 'B'],\n",
    "     'Descripción' : [  'Leche',  'Cereales',  ] }\n",
    "\n",
    "df1 = pd.DataFrame(d1, index = ['ES', 'IR', 'SP']) \n",
    "df2 = pd.DataFrame(d2, index = ['ES', 'IR']) "
   ]
  },
  {
   "cell_type": "code",
   "execution_count": 24,
   "metadata": {
    "collapsed": false
   },
   "outputs": [
    {
     "data": {
      "text/html": [
       "<div>\n",
       "<table border=\"1\" class=\"dataframe\">\n",
       "  <thead>\n",
       "    <tr style=\"text-align: right;\">\n",
       "      <th></th>\n",
       "      <th>Cantidad</th>\n",
       "      <th>País</th>\n",
       "    </tr>\n",
       "  </thead>\n",
       "  <tbody>\n",
       "    <tr>\n",
       "      <th>ES</th>\n",
       "      <td>8.4</td>\n",
       "      <td>Estonia</td>\n",
       "    </tr>\n",
       "    <tr>\n",
       "      <th>IR</th>\n",
       "      <td>227.0</td>\n",
       "      <td>Irlanda</td>\n",
       "    </tr>\n",
       "    <tr>\n",
       "      <th>SP</th>\n",
       "      <td>58.9</td>\n",
       "      <td>Epaña</td>\n",
       "    </tr>\n",
       "  </tbody>\n",
       "</table>\n",
       "</div>"
      ],
      "text/plain": [
       "    Cantidad     País\n",
       "ES       8.4  Estonia\n",
       "IR     227.0  Irlanda\n",
       "SP      58.9    Epaña"
      ]
     },
     "execution_count": 24,
     "metadata": {},
     "output_type": "execute_result"
    }
   ],
   "source": [
    "df1"
   ]
  },
  {
   "cell_type": "code",
   "execution_count": 25,
   "metadata": {
    "collapsed": false
   },
   "outputs": [
    {
     "data": {
      "text/html": [
       "<div>\n",
       "<table border=\"1\" class=\"dataframe\">\n",
       "  <thead>\n",
       "    <tr style=\"text-align: right;\">\n",
       "      <th></th>\n",
       "      <th>Descripción</th>\n",
       "      <th>Producto</th>\n",
       "    </tr>\n",
       "  </thead>\n",
       "  <tbody>\n",
       "    <tr>\n",
       "      <th>ES</th>\n",
       "      <td>Leche</td>\n",
       "      <td>A</td>\n",
       "    </tr>\n",
       "    <tr>\n",
       "      <th>IR</th>\n",
       "      <td>Cereales</td>\n",
       "      <td>B</td>\n",
       "    </tr>\n",
       "  </tbody>\n",
       "</table>\n",
       "</div>"
      ],
      "text/plain": [
       "   Descripción Producto\n",
       "ES       Leche        A\n",
       "IR    Cereales        B"
      ]
     },
     "execution_count": 25,
     "metadata": {},
     "output_type": "execute_result"
    }
   ],
   "source": [
    "df2"
   ]
  },
  {
   "cell_type": "markdown",
   "metadata": {},
   "source": [
    "Para apilar ambos dataframes horizontamente, escribimos:"
   ]
  },
  {
   "cell_type": "code",
   "execution_count": 26,
   "metadata": {
    "collapsed": false
   },
   "outputs": [
    {
     "data": {
      "text/html": [
       "<div>\n",
       "<table border=\"1\" class=\"dataframe\">\n",
       "  <thead>\n",
       "    <tr style=\"text-align: right;\">\n",
       "      <th></th>\n",
       "      <th>Cantidad</th>\n",
       "      <th>País</th>\n",
       "      <th>Descripción</th>\n",
       "      <th>Producto</th>\n",
       "    </tr>\n",
       "  </thead>\n",
       "  <tbody>\n",
       "    <tr>\n",
       "      <th>ES</th>\n",
       "      <td>8.4</td>\n",
       "      <td>Estonia</td>\n",
       "      <td>Leche</td>\n",
       "      <td>A</td>\n",
       "    </tr>\n",
       "    <tr>\n",
       "      <th>IR</th>\n",
       "      <td>227.0</td>\n",
       "      <td>Irlanda</td>\n",
       "      <td>Cereales</td>\n",
       "      <td>B</td>\n",
       "    </tr>\n",
       "    <tr>\n",
       "      <th>SP</th>\n",
       "      <td>58.9</td>\n",
       "      <td>Epaña</td>\n",
       "      <td>NaN</td>\n",
       "      <td>NaN</td>\n",
       "    </tr>\n",
       "  </tbody>\n",
       "</table>\n",
       "</div>"
      ],
      "text/plain": [
       "    Cantidad     País Descripción Producto\n",
       "ES       8.4  Estonia       Leche        A\n",
       "IR     227.0  Irlanda    Cereales        B\n",
       "SP      58.9    Epaña         NaN      NaN"
      ]
     },
     "execution_count": 26,
     "metadata": {},
     "output_type": "execute_result"
    }
   ],
   "source": [
    "result = pd.concat([df1, df2] , axis = 1)\n",
    "result"
   ]
  },
  {
   "cell_type": "markdown",
   "metadata": {},
   "source": [
    "Para apilar verticalmente, escribimos:"
   ]
  },
  {
   "cell_type": "code",
   "execution_count": 27,
   "metadata": {
    "collapsed": false
   },
   "outputs": [
    {
     "data": {
      "text/html": [
       "<div>\n",
       "<table border=\"1\" class=\"dataframe\">\n",
       "  <thead>\n",
       "    <tr style=\"text-align: right;\">\n",
       "      <th></th>\n",
       "      <th>Cantidad</th>\n",
       "      <th>Descripción</th>\n",
       "      <th>País</th>\n",
       "      <th>Producto</th>\n",
       "    </tr>\n",
       "  </thead>\n",
       "  <tbody>\n",
       "    <tr>\n",
       "      <th>ES</th>\n",
       "      <td>8.4</td>\n",
       "      <td>NaN</td>\n",
       "      <td>Estonia</td>\n",
       "      <td>NaN</td>\n",
       "    </tr>\n",
       "    <tr>\n",
       "      <th>IR</th>\n",
       "      <td>227.0</td>\n",
       "      <td>NaN</td>\n",
       "      <td>Irlanda</td>\n",
       "      <td>NaN</td>\n",
       "    </tr>\n",
       "    <tr>\n",
       "      <th>SP</th>\n",
       "      <td>58.9</td>\n",
       "      <td>NaN</td>\n",
       "      <td>Epaña</td>\n",
       "      <td>NaN</td>\n",
       "    </tr>\n",
       "    <tr>\n",
       "      <th>ES</th>\n",
       "      <td>NaN</td>\n",
       "      <td>Leche</td>\n",
       "      <td>NaN</td>\n",
       "      <td>A</td>\n",
       "    </tr>\n",
       "    <tr>\n",
       "      <th>IR</th>\n",
       "      <td>NaN</td>\n",
       "      <td>Cereales</td>\n",
       "      <td>NaN</td>\n",
       "      <td>B</td>\n",
       "    </tr>\n",
       "  </tbody>\n",
       "</table>\n",
       "</div>"
      ],
      "text/plain": [
       "    Cantidad Descripción     País Producto\n",
       "ES       8.4         NaN  Estonia      NaN\n",
       "IR     227.0         NaN  Irlanda      NaN\n",
       "SP      58.9         NaN    Epaña      NaN\n",
       "ES       NaN       Leche      NaN        A\n",
       "IR       NaN    Cereales      NaN        B"
      ]
     },
     "execution_count": 27,
     "metadata": {},
     "output_type": "execute_result"
    }
   ],
   "source": [
    "result = pd.concat([df1, df2] , axis = 0)\n",
    "result"
   ]
  },
  {
   "cell_type": "markdown",
   "metadata": {},
   "source": [
    "El argumento `ignore_index` permite apilar los dataframes ignorando el valor de los índices:"
   ]
  },
  {
   "cell_type": "code",
   "execution_count": 28,
   "metadata": {
    "collapsed": false
   },
   "outputs": [
    {
     "data": {
      "text/html": [
       "<div>\n",
       "<table border=\"1\" class=\"dataframe\">\n",
       "  <thead>\n",
       "    <tr style=\"text-align: right;\">\n",
       "      <th></th>\n",
       "      <th>Cantidad</th>\n",
       "      <th>Descripción</th>\n",
       "      <th>País</th>\n",
       "      <th>Producto</th>\n",
       "    </tr>\n",
       "  </thead>\n",
       "  <tbody>\n",
       "    <tr>\n",
       "      <th>0</th>\n",
       "      <td>8.4</td>\n",
       "      <td>NaN</td>\n",
       "      <td>Estonia</td>\n",
       "      <td>NaN</td>\n",
       "    </tr>\n",
       "    <tr>\n",
       "      <th>1</th>\n",
       "      <td>227.0</td>\n",
       "      <td>NaN</td>\n",
       "      <td>Irlanda</td>\n",
       "      <td>NaN</td>\n",
       "    </tr>\n",
       "    <tr>\n",
       "      <th>2</th>\n",
       "      <td>58.9</td>\n",
       "      <td>NaN</td>\n",
       "      <td>Epaña</td>\n",
       "      <td>NaN</td>\n",
       "    </tr>\n",
       "    <tr>\n",
       "      <th>3</th>\n",
       "      <td>NaN</td>\n",
       "      <td>Leche</td>\n",
       "      <td>NaN</td>\n",
       "      <td>A</td>\n",
       "    </tr>\n",
       "    <tr>\n",
       "      <th>4</th>\n",
       "      <td>NaN</td>\n",
       "      <td>Cereales</td>\n",
       "      <td>NaN</td>\n",
       "      <td>B</td>\n",
       "    </tr>\n",
       "  </tbody>\n",
       "</table>\n",
       "</div>"
      ],
      "text/plain": [
       "   Cantidad Descripción     País Producto\n",
       "0       8.4         NaN  Estonia      NaN\n",
       "1     227.0         NaN  Irlanda      NaN\n",
       "2      58.9         NaN    Epaña      NaN\n",
       "3       NaN       Leche      NaN        A\n",
       "4       NaN    Cereales      NaN        B"
      ]
     },
     "execution_count": 28,
     "metadata": {},
     "output_type": "execute_result"
    }
   ],
   "source": [
    "result = pd.concat([df1, df2] , axis = 0, ignore_index = True)\n",
    "result"
   ]
  },
  {
   "cell_type": "markdown",
   "metadata": {},
   "source": [
    "## Referencias"
   ]
  },
  {
   "cell_type": "markdown",
   "metadata": {},
   "source": [
    "* [Python Data Analysis Library](http://pandas.pydata.org/)\n",
    "* [Python for Data Analysis](http://shop.oreilly.com/product/0636920023784.do)\n"
   ]
  },
  {
   "cell_type": "markdown",
   "metadata": {},
   "source": [
    "--------"
   ]
  },
  {
   "cell_type": "markdown",
   "metadata": {},
   "source": [
    "<a rel=\"license\" href=\"http://creativecommons.org/licenses/by-nc-sa/4.0/\"><img alt=\"Licencia Creative Commons\" style=\"border-width:0\" src=\"https://i.creativecommons.org/l/by-nc-sa/4.0/88x31.png\" /></a><br />"
   ]
  }
 ],
 "metadata": {
  "anaconda-cloud": {},
  "kernelspec": {
   "display_name": "Python 3",
   "language": "python",
   "name": "python3"
  },
  "language_info": {
   "codemirror_mode": {
    "name": "ipython",
    "version": 3
   },
   "file_extension": ".py",
   "mimetype": "text/x-python",
   "name": "python",
   "nbconvert_exporter": "python",
   "pygments_lexer": "ipython3",
   "version": "3.6.0"
  },
  "toc": {
   "colors": {
    "hover_highlight": "#DAA520",
    "running_highlight": "#FF0000",
    "selected_highlight": "#FFD700"
   },
   "moveMenuLeft": true,
   "nav_menu": {
    "height": "353px",
    "width": "252px"
   },
   "navigate_menu": true,
   "number_sections": true,
   "sideBar": true,
   "threshold": 4,
   "toc_cell": true,
   "toc_position": {
    "height": "384px",
    "left": "0px",
    "right": "948.333px",
    "top": "121px",
    "width": "190px"
   },
   "toc_section_display": "block",
   "toc_window_display": true,
   "widenNotebook": false
  }
 },
 "nbformat": 4,
 "nbformat_minor": 0
}

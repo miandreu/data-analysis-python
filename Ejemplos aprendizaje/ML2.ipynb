{
 "cells": [
  {
   "cell_type": "markdown",
   "metadata": {},
   "source": [
    "<img src=\"../logo/logo.jpg\">"
   ]
  },
  {
   "cell_type": "markdown",
   "metadata": {},
   "source": [
    "# Table of Contents\n",
    "* [1. Maching Learning](#1.-Maching-Learning)\n",
    "\t* [1.1 Modelo de regresión logística](#1.1-Modelo-de-regresión-logística)\n",
    "\t* [1.2 Predicción con Arboles de decisión](#1.2-Predicción-con-Arboles-de-decisión)\n",
    "\t* [1.3 Predicción con Random Forest](#1.3-Predicción-con-Random-Forest)\n"
   ]
  },
  {
   "cell_type": "markdown",
   "metadata": {},
   "source": [
    "# 1. Maching Learning"
   ]
  },
  {
   "cell_type": "markdown",
   "metadata": {},
   "source": [
    "[Scikit-learn](http://scikit-learn.org/stable/) es una librería que incluye la implementación de un gran número de algoritmos de aprendizaje, siendo básica para trabajar con __ML__.\n",
    "\n",
    "La podemos utilizar para realizar _clasificaciones_, _extraccion de características_, _regresiones_, _agrupaciones_, _reducción de dimensiones_, _selección de modelos_ o _preprocesamiento_.\n",
    "\n",
    "Esta librería también nos facilita las tareas de evaluación, diagnostico y validaciones cruzadas ya que nos proporciona varios métodos de fábrica para poder realizar estas tareas de forma muy simple.\n",
    "\n",
    "__Pregunta:__"
   ]
  },
  {
   "cell_type": "markdown",
   "metadata": {},
   "source": [
    "¿Se puede predecir la característica `deja_la_empresa` a partir del resto de los datos?\n",
    "\n",
    "`deja_la_empres` = 1"
   ]
  },
  {
   "cell_type": "code",
   "execution_count": 2,
   "metadata": {
    "collapsed": false
   },
   "outputs": [
    {
     "name": "stderr",
     "output_type": "stream",
     "text": [
      "C:\\Users\\Yoli\\Anaconda3\\lib\\site-packages\\sklearn\\cross_validation.py:44: DeprecationWarning: This module was deprecated in version 0.18 in favor of the model_selection module into which all the refactored classes and functions are moved. Also note that the interface of the new CV iterators are different from that of this module. This module will be removed in 0.20.\n",
      "  \"This module will be removed in 0.20.\", DeprecationWarning)\n"
     ]
    }
   ],
   "source": [
    "import pandas as pd\n",
    "import numpy as np\n",
    "import matplotlib as mpl\n",
    "import matplotlib.pyplot as plt\n",
    "import seaborn as sns\n",
    "%matplotlib inline\n",
    "\n",
    "from sklearn.preprocessing import LabelEncoder\n",
    "#from   sklearn.model_selection import train_test_split       # sustituye a cross_validation\n",
    "from sklearn.cross_validation import train_test_split         # desapare en la versión 0.20\n",
    "\n",
    "\n",
    "\n",
    "from sklearn.calibration import CalibratedClassifierCV\n",
    "from sklearn.feature_selection import SelectFromModel;"
   ]
  },
  {
   "cell_type": "markdown",
   "metadata": {},
   "source": [
    "Lo primero que hacemos es convertir las variables categóricas en variables indicadoras. Lo hacemos mediante la función __get_dummies()__."
   ]
  },
  {
   "cell_type": "code",
   "execution_count": 3,
   "metadata": {
    "collapsed": false
   },
   "outputs": [
    {
     "data": {
      "text/html": [
       "<div>\n",
       "<table border=\"1\" class=\"dataframe\">\n",
       "  <thead>\n",
       "    <tr style=\"text-align: right;\">\n",
       "      <th></th>\n",
       "      <th>nivel_de_satisfaccion</th>\n",
       "      <th>ultima_encuesta</th>\n",
       "      <th>numero_de_proyectos</th>\n",
       "      <th>media_horas_mes</th>\n",
       "      <th>horas_en_la_empresa</th>\n",
       "      <th>accidente_de_trabajo</th>\n",
       "      <th>deja_la_empresa</th>\n",
       "      <th>promociona</th>\n",
       "      <th>dep_IT</th>\n",
       "      <th>dep_RandD</th>\n",
       "      <th>...</th>\n",
       "      <th>dep_hr</th>\n",
       "      <th>dep_management</th>\n",
       "      <th>dep_marketing</th>\n",
       "      <th>dep_product_mng</th>\n",
       "      <th>dep_sales</th>\n",
       "      <th>dep_support</th>\n",
       "      <th>dep_technical</th>\n",
       "      <th>salario_high</th>\n",
       "      <th>salario_low</th>\n",
       "      <th>salario_medium</th>\n",
       "    </tr>\n",
       "  </thead>\n",
       "  <tbody>\n",
       "    <tr>\n",
       "      <th>0</th>\n",
       "      <td>0.38</td>\n",
       "      <td>0.53</td>\n",
       "      <td>2.0</td>\n",
       "      <td>157</td>\n",
       "      <td>3</td>\n",
       "      <td>0</td>\n",
       "      <td>1.0</td>\n",
       "      <td>0</td>\n",
       "      <td>0.0</td>\n",
       "      <td>0.0</td>\n",
       "      <td>...</td>\n",
       "      <td>0.0</td>\n",
       "      <td>0.0</td>\n",
       "      <td>0.0</td>\n",
       "      <td>0.0</td>\n",
       "      <td>1.0</td>\n",
       "      <td>0.0</td>\n",
       "      <td>0.0</td>\n",
       "      <td>0.0</td>\n",
       "      <td>1.0</td>\n",
       "      <td>0.0</td>\n",
       "    </tr>\n",
       "    <tr>\n",
       "      <th>1</th>\n",
       "      <td>0.80</td>\n",
       "      <td>0.86</td>\n",
       "      <td>5.0</td>\n",
       "      <td>262</td>\n",
       "      <td>6</td>\n",
       "      <td>0</td>\n",
       "      <td>1.0</td>\n",
       "      <td>0</td>\n",
       "      <td>0.0</td>\n",
       "      <td>0.0</td>\n",
       "      <td>...</td>\n",
       "      <td>0.0</td>\n",
       "      <td>0.0</td>\n",
       "      <td>0.0</td>\n",
       "      <td>0.0</td>\n",
       "      <td>1.0</td>\n",
       "      <td>0.0</td>\n",
       "      <td>0.0</td>\n",
       "      <td>0.0</td>\n",
       "      <td>0.0</td>\n",
       "      <td>1.0</td>\n",
       "    </tr>\n",
       "    <tr>\n",
       "      <th>3</th>\n",
       "      <td>0.72</td>\n",
       "      <td>0.87</td>\n",
       "      <td>5.0</td>\n",
       "      <td>223</td>\n",
       "      <td>5</td>\n",
       "      <td>0</td>\n",
       "      <td>1.0</td>\n",
       "      <td>0</td>\n",
       "      <td>0.0</td>\n",
       "      <td>0.0</td>\n",
       "      <td>...</td>\n",
       "      <td>0.0</td>\n",
       "      <td>0.0</td>\n",
       "      <td>0.0</td>\n",
       "      <td>0.0</td>\n",
       "      <td>1.0</td>\n",
       "      <td>0.0</td>\n",
       "      <td>0.0</td>\n",
       "      <td>0.0</td>\n",
       "      <td>1.0</td>\n",
       "      <td>0.0</td>\n",
       "    </tr>\n",
       "    <tr>\n",
       "      <th>5</th>\n",
       "      <td>0.41</td>\n",
       "      <td>0.50</td>\n",
       "      <td>2.0</td>\n",
       "      <td>153</td>\n",
       "      <td>3</td>\n",
       "      <td>0</td>\n",
       "      <td>1.0</td>\n",
       "      <td>0</td>\n",
       "      <td>0.0</td>\n",
       "      <td>0.0</td>\n",
       "      <td>...</td>\n",
       "      <td>0.0</td>\n",
       "      <td>0.0</td>\n",
       "      <td>0.0</td>\n",
       "      <td>0.0</td>\n",
       "      <td>1.0</td>\n",
       "      <td>0.0</td>\n",
       "      <td>0.0</td>\n",
       "      <td>0.0</td>\n",
       "      <td>1.0</td>\n",
       "      <td>0.0</td>\n",
       "    </tr>\n",
       "    <tr>\n",
       "      <th>6</th>\n",
       "      <td>0.10</td>\n",
       "      <td>0.77</td>\n",
       "      <td>6.0</td>\n",
       "      <td>247</td>\n",
       "      <td>4</td>\n",
       "      <td>0</td>\n",
       "      <td>1.0</td>\n",
       "      <td>0</td>\n",
       "      <td>0.0</td>\n",
       "      <td>0.0</td>\n",
       "      <td>...</td>\n",
       "      <td>0.0</td>\n",
       "      <td>0.0</td>\n",
       "      <td>0.0</td>\n",
       "      <td>0.0</td>\n",
       "      <td>1.0</td>\n",
       "      <td>0.0</td>\n",
       "      <td>0.0</td>\n",
       "      <td>0.0</td>\n",
       "      <td>1.0</td>\n",
       "      <td>0.0</td>\n",
       "    </tr>\n",
       "  </tbody>\n",
       "</table>\n",
       "<p>5 rows × 21 columns</p>\n",
       "</div>"
      ],
      "text/plain": [
       "   nivel_de_satisfaccion  ultima_encuesta  numero_de_proyectos  \\\n",
       "0                   0.38             0.53                  2.0   \n",
       "1                   0.80             0.86                  5.0   \n",
       "3                   0.72             0.87                  5.0   \n",
       "5                   0.41             0.50                  2.0   \n",
       "6                   0.10             0.77                  6.0   \n",
       "\n",
       "   media_horas_mes   horas_en_la_empresa  accidente_de_trabajo  \\\n",
       "0               157                    3                     0   \n",
       "1               262                    6                     0   \n",
       "3               223                    5                     0   \n",
       "5               153                    3                     0   \n",
       "6               247                    4                     0   \n",
       "\n",
       "   deja_la_empresa  promociona  dep_IT  dep_RandD       ...        dep_hr  \\\n",
       "0              1.0           0     0.0        0.0       ...           0.0   \n",
       "1              1.0           0     0.0        0.0       ...           0.0   \n",
       "3              1.0           0     0.0        0.0       ...           0.0   \n",
       "5              1.0           0     0.0        0.0       ...           0.0   \n",
       "6              1.0           0     0.0        0.0       ...           0.0   \n",
       "\n",
       "   dep_management  dep_marketing  dep_product_mng  dep_sales  dep_support  \\\n",
       "0             0.0            0.0              0.0        1.0          0.0   \n",
       "1             0.0            0.0              0.0        1.0          0.0   \n",
       "3             0.0            0.0              0.0        1.0          0.0   \n",
       "5             0.0            0.0              0.0        1.0          0.0   \n",
       "6             0.0            0.0              0.0        1.0          0.0   \n",
       "\n",
       "   dep_technical  salario_high  salario_low  salario_medium  \n",
       "0            0.0           0.0          1.0             0.0  \n",
       "1            0.0           0.0          0.0             1.0  \n",
       "3            0.0           0.0          1.0             0.0  \n",
       "5            0.0           0.0          1.0             0.0  \n",
       "6            0.0           0.0          1.0             0.0  \n",
       "\n",
       "[5 rows x 21 columns]"
      ]
     },
     "execution_count": 3,
     "metadata": {},
     "output_type": "execute_result"
    }
   ],
   "source": [
    "tabla = pd.read_csv('./datos/HR_comma.csv')\n",
    "tabla = tabla.dropna()                             # borramos las observaciones con NaN\n",
    "\n",
    "# variables categóricas en variables indicadoras\n",
    "tabla_copy = pd.get_dummies(tabla)                 # guardamos el resultado en una copia\n",
    "tabla_copy.head()"
   ]
  },
  {
   "cell_type": "code",
   "execution_count": 4,
   "metadata": {
    "collapsed": false
   },
   "outputs": [
    {
     "name": "stdout",
     "output_type": "stream",
     "text": [
      "<class 'pandas.core.frame.DataFrame'>\n",
      "Int64Index: 14994 entries, 0 to 14998\n",
      "Data columns (total 21 columns):\n",
      "nivel_de_satisfaccion    14994 non-null float64\n",
      "ultima_encuesta          14994 non-null float64\n",
      "numero_de_proyectos      14994 non-null float64\n",
      "media_horas_mes          14994 non-null int64\n",
      "horas_en_la_empresa      14994 non-null int64\n",
      "accidente_de_trabajo     14994 non-null int64\n",
      "deja_la_empresa          14994 non-null float64\n",
      "promociona               14994 non-null int64\n",
      "dep_IT                   14994 non-null float64\n",
      "dep_RandD                14994 non-null float64\n",
      "dep_accounting           14994 non-null float64\n",
      "dep_hr                   14994 non-null float64\n",
      "dep_management           14994 non-null float64\n",
      "dep_marketing            14994 non-null float64\n",
      "dep_product_mng          14994 non-null float64\n",
      "dep_sales                14994 non-null float64\n",
      "dep_support              14994 non-null float64\n",
      "dep_technical            14994 non-null float64\n",
      "salario_high             14994 non-null float64\n",
      "salario_low              14994 non-null float64\n",
      "salario_medium           14994 non-null float64\n",
      "dtypes: float64(17), int64(4)\n",
      "memory usage: 2.5 MB\n"
     ]
    }
   ],
   "source": [
    "tabla_copy.info()      # No hay NaN en la tabla"
   ]
  },
  {
   "cell_type": "markdown",
   "metadata": {},
   "source": [
    "A continuación, construimos la matriz de variables independientes `X` y la variable dependiente `y`."
   ]
  },
  {
   "cell_type": "code",
   "execution_count": 5,
   "metadata": {
    "collapsed": false
   },
   "outputs": [],
   "source": [
    "# y = variable dependiente\n",
    "y = tabla_copy.pop('deja_la_empresa')\n",
    "# X = matriz de variables independientes\n",
    "X = tabla_copy"
   ]
  },
  {
   "cell_type": "code",
   "execution_count": 6,
   "metadata": {
    "collapsed": false
   },
   "outputs": [
    {
     "data": {
      "text/plain": [
       "(array([ 1.,  0.]), 14994)"
      ]
     },
     "execution_count": 6,
     "metadata": {},
     "output_type": "execute_result"
    }
   ],
   "source": [
    "y.unique(), len(y)         # valores distintos de la variable y"
   ]
  },
  {
   "cell_type": "code",
   "execution_count": 7,
   "metadata": {
    "collapsed": false
   },
   "outputs": [
    {
     "data": {
      "text/html": [
       "<div>\n",
       "<table border=\"1\" class=\"dataframe\">\n",
       "  <thead>\n",
       "    <tr style=\"text-align: right;\">\n",
       "      <th></th>\n",
       "      <th>nivel_de_satisfaccion</th>\n",
       "      <th>ultima_encuesta</th>\n",
       "      <th>numero_de_proyectos</th>\n",
       "      <th>media_horas_mes</th>\n",
       "      <th>horas_en_la_empresa</th>\n",
       "      <th>accidente_de_trabajo</th>\n",
       "      <th>promociona</th>\n",
       "      <th>dep_IT</th>\n",
       "      <th>dep_RandD</th>\n",
       "      <th>dep_accounting</th>\n",
       "      <th>dep_hr</th>\n",
       "      <th>dep_management</th>\n",
       "      <th>dep_marketing</th>\n",
       "      <th>dep_product_mng</th>\n",
       "      <th>dep_sales</th>\n",
       "      <th>dep_support</th>\n",
       "      <th>dep_technical</th>\n",
       "      <th>salario_high</th>\n",
       "      <th>salario_low</th>\n",
       "      <th>salario_medium</th>\n",
       "    </tr>\n",
       "  </thead>\n",
       "  <tbody>\n",
       "    <tr>\n",
       "      <th>0</th>\n",
       "      <td>0.38</td>\n",
       "      <td>0.53</td>\n",
       "      <td>2.0</td>\n",
       "      <td>157</td>\n",
       "      <td>3</td>\n",
       "      <td>0</td>\n",
       "      <td>0</td>\n",
       "      <td>0.0</td>\n",
       "      <td>0.0</td>\n",
       "      <td>0.0</td>\n",
       "      <td>0.0</td>\n",
       "      <td>0.0</td>\n",
       "      <td>0.0</td>\n",
       "      <td>0.0</td>\n",
       "      <td>1.0</td>\n",
       "      <td>0.0</td>\n",
       "      <td>0.0</td>\n",
       "      <td>0.0</td>\n",
       "      <td>1.0</td>\n",
       "      <td>0.0</td>\n",
       "    </tr>\n",
       "    <tr>\n",
       "      <th>1</th>\n",
       "      <td>0.80</td>\n",
       "      <td>0.86</td>\n",
       "      <td>5.0</td>\n",
       "      <td>262</td>\n",
       "      <td>6</td>\n",
       "      <td>0</td>\n",
       "      <td>0</td>\n",
       "      <td>0.0</td>\n",
       "      <td>0.0</td>\n",
       "      <td>0.0</td>\n",
       "      <td>0.0</td>\n",
       "      <td>0.0</td>\n",
       "      <td>0.0</td>\n",
       "      <td>0.0</td>\n",
       "      <td>1.0</td>\n",
       "      <td>0.0</td>\n",
       "      <td>0.0</td>\n",
       "      <td>0.0</td>\n",
       "      <td>0.0</td>\n",
       "      <td>1.0</td>\n",
       "    </tr>\n",
       "    <tr>\n",
       "      <th>3</th>\n",
       "      <td>0.72</td>\n",
       "      <td>0.87</td>\n",
       "      <td>5.0</td>\n",
       "      <td>223</td>\n",
       "      <td>5</td>\n",
       "      <td>0</td>\n",
       "      <td>0</td>\n",
       "      <td>0.0</td>\n",
       "      <td>0.0</td>\n",
       "      <td>0.0</td>\n",
       "      <td>0.0</td>\n",
       "      <td>0.0</td>\n",
       "      <td>0.0</td>\n",
       "      <td>0.0</td>\n",
       "      <td>1.0</td>\n",
       "      <td>0.0</td>\n",
       "      <td>0.0</td>\n",
       "      <td>0.0</td>\n",
       "      <td>1.0</td>\n",
       "      <td>0.0</td>\n",
       "    </tr>\n",
       "    <tr>\n",
       "      <th>5</th>\n",
       "      <td>0.41</td>\n",
       "      <td>0.50</td>\n",
       "      <td>2.0</td>\n",
       "      <td>153</td>\n",
       "      <td>3</td>\n",
       "      <td>0</td>\n",
       "      <td>0</td>\n",
       "      <td>0.0</td>\n",
       "      <td>0.0</td>\n",
       "      <td>0.0</td>\n",
       "      <td>0.0</td>\n",
       "      <td>0.0</td>\n",
       "      <td>0.0</td>\n",
       "      <td>0.0</td>\n",
       "      <td>1.0</td>\n",
       "      <td>0.0</td>\n",
       "      <td>0.0</td>\n",
       "      <td>0.0</td>\n",
       "      <td>1.0</td>\n",
       "      <td>0.0</td>\n",
       "    </tr>\n",
       "    <tr>\n",
       "      <th>6</th>\n",
       "      <td>0.10</td>\n",
       "      <td>0.77</td>\n",
       "      <td>6.0</td>\n",
       "      <td>247</td>\n",
       "      <td>4</td>\n",
       "      <td>0</td>\n",
       "      <td>0</td>\n",
       "      <td>0.0</td>\n",
       "      <td>0.0</td>\n",
       "      <td>0.0</td>\n",
       "      <td>0.0</td>\n",
       "      <td>0.0</td>\n",
       "      <td>0.0</td>\n",
       "      <td>0.0</td>\n",
       "      <td>1.0</td>\n",
       "      <td>0.0</td>\n",
       "      <td>0.0</td>\n",
       "      <td>0.0</td>\n",
       "      <td>1.0</td>\n",
       "      <td>0.0</td>\n",
       "    </tr>\n",
       "  </tbody>\n",
       "</table>\n",
       "</div>"
      ],
      "text/plain": [
       "   nivel_de_satisfaccion  ultima_encuesta  numero_de_proyectos  \\\n",
       "0                   0.38             0.53                  2.0   \n",
       "1                   0.80             0.86                  5.0   \n",
       "3                   0.72             0.87                  5.0   \n",
       "5                   0.41             0.50                  2.0   \n",
       "6                   0.10             0.77                  6.0   \n",
       "\n",
       "   media_horas_mes   horas_en_la_empresa  accidente_de_trabajo  promociona  \\\n",
       "0               157                    3                     0           0   \n",
       "1               262                    6                     0           0   \n",
       "3               223                    5                     0           0   \n",
       "5               153                    3                     0           0   \n",
       "6               247                    4                     0           0   \n",
       "\n",
       "   dep_IT  dep_RandD  dep_accounting  dep_hr  dep_management  dep_marketing  \\\n",
       "0     0.0        0.0             0.0     0.0             0.0            0.0   \n",
       "1     0.0        0.0             0.0     0.0             0.0            0.0   \n",
       "3     0.0        0.0             0.0     0.0             0.0            0.0   \n",
       "5     0.0        0.0             0.0     0.0             0.0            0.0   \n",
       "6     0.0        0.0             0.0     0.0             0.0            0.0   \n",
       "\n",
       "   dep_product_mng  dep_sales  dep_support  dep_technical  salario_high  \\\n",
       "0              0.0        1.0          0.0            0.0           0.0   \n",
       "1              0.0        1.0          0.0            0.0           0.0   \n",
       "3              0.0        1.0          0.0            0.0           0.0   \n",
       "5              0.0        1.0          0.0            0.0           0.0   \n",
       "6              0.0        1.0          0.0            0.0           0.0   \n",
       "\n",
       "   salario_low  salario_medium  \n",
       "0          1.0             0.0  \n",
       "1          0.0             1.0  \n",
       "3          1.0             0.0  \n",
       "5          1.0             0.0  \n",
       "6          1.0             0.0  "
      ]
     },
     "execution_count": 7,
     "metadata": {},
     "output_type": "execute_result"
    }
   ],
   "source": [
    "X.head()"
   ]
  },
  {
   "cell_type": "code",
   "execution_count": 8,
   "metadata": {
    "collapsed": false
   },
   "outputs": [
    {
     "data": {
      "text/plain": [
       "14994"
      ]
     },
     "execution_count": 8,
     "metadata": {},
     "output_type": "execute_result"
    }
   ],
   "source": [
    "len(X)"
   ]
  },
  {
   "cell_type": "markdown",
   "metadata": {},
   "source": [
    "Para aplicar el modelo de regresión logística, el tipo de los datos (y, X) ha de ser array de NumPy."
   ]
  },
  {
   "cell_type": "code",
   "execution_count": 9,
   "metadata": {
    "collapsed": false
   },
   "outputs": [
    {
     "data": {
      "text/plain": [
       "(pandas.core.series.Series, pandas.core.frame.DataFrame)"
      ]
     },
     "execution_count": 9,
     "metadata": {},
     "output_type": "execute_result"
    }
   ],
   "source": [
    "type(y), type(X)"
   ]
  },
  {
   "cell_type": "markdown",
   "metadata": {},
   "source": [
    "Nos quedamos con los valores de la Serie y del DataFrame"
   ]
  },
  {
   "cell_type": "code",
   "execution_count": 10,
   "metadata": {
    "collapsed": true
   },
   "outputs": [],
   "source": [
    "y = y.values\n",
    "X = X.values"
   ]
  },
  {
   "cell_type": "code",
   "execution_count": 11,
   "metadata": {
    "collapsed": false
   },
   "outputs": [
    {
     "data": {
      "text/plain": [
       "(numpy.ndarray, numpy.ndarray)"
      ]
     },
     "execution_count": 11,
     "metadata": {},
     "output_type": "execute_result"
    }
   ],
   "source": [
    "type(y), type(X)"
   ]
  },
  {
   "cell_type": "markdown",
   "metadata": {},
   "source": [
    "Dividimos los datasets en entrenamiento y evaluación:"
   ]
  },
  {
   "cell_type": "code",
   "execution_count": 12,
   "metadata": {
    "collapsed": false
   },
   "outputs": [
    {
     "data": {
      "text/plain": [
       "(2999, 0.20001333866880086, 11995, 0.7999866613311991)"
      ]
     },
     "execution_count": 12,
     "metadata": {},
     "output_type": "execute_result"
    }
   ],
   "source": [
    "# Xtrain con el 80% de los datos\n",
    "# Xtest  con el 20 de los datos\n",
    "Xtrain, Xtest, ytrain, ytest = train_test_split(X, y, test_size=0.20)\n",
    "len(Xtest), len(Xtest)/len(X),len(Xtrain), len(Xtrain)/len(X)"
   ]
  },
  {
   "cell_type": "markdown",
   "metadata": {},
   "source": [
    "## 1.1 Modelo de regresión logística"
   ]
  },
  {
   "cell_type": "markdown",
   "metadata": {},
   "source": [
    "Creamos el modelo de regresión logística"
   ]
  },
  {
   "cell_type": "code",
   "execution_count": 13,
   "metadata": {
    "collapsed": false
   },
   "outputs": [],
   "source": [
    "# importando el modelo de regresión logística\n",
    "from sklearn.linear_model import LogisticRegression\n",
    "\n",
    "# Creando el modelo\n",
    "modelo_rl = LogisticRegression()    \n",
    "# Ajustando el modelo\n",
    "modelo_rl.fit(Xtrain, ytrain)\n",
    "\n",
    "# Realizando las predicciones\n",
    "y_predic_test = modelo_rl.predict(Xtest) \n"
   ]
  },
  {
   "cell_type": "code",
   "execution_count": 14,
   "metadata": {
    "collapsed": false
   },
   "outputs": [],
   "source": [
    "dejaE  = pd.Series(y_predic_test, name = 'deja la empresa')\n",
    "datos = pd.DataFrame(Xtest, columns = tabla_copy.columns)\n",
    "datos.insert(19, column = 'deja_la Empresa', value = dejaE)\n",
    "datos.to_excel('para_jefe.xlsx', header = True, index = False)"
   ]
  },
  {
   "cell_type": "code",
   "execution_count": 15,
   "metadata": {
    "collapsed": false
   },
   "outputs": [
    {
     "data": {
      "text/plain": [
       "(2999, 20)"
      ]
     },
     "execution_count": 15,
     "metadata": {},
     "output_type": "execute_result"
    }
   ],
   "source": [
    "Xtest.shape"
   ]
  },
  {
   "cell_type": "code",
   "execution_count": null,
   "metadata": {
    "collapsed": true
   },
   "outputs": [],
   "source": []
  },
  {
   "cell_type": "code",
   "execution_count": null,
   "metadata": {
    "collapsed": true
   },
   "outputs": [],
   "source": []
  },
  {
   "cell_type": "markdown",
   "metadata": {},
   "source": [
    "Podemos preguntar por la bondad del ajuste con la función __score__. Como podemos ver a continuación, el ajuste es mejor "
   ]
  },
  {
   "cell_type": "code",
   "execution_count": 16,
   "metadata": {
    "collapsed": false
   },
   "outputs": [
    {
     "name": "stdout",
     "output_type": "stream",
     "text": [
      "Bondad del ajuste con RL:  0.782594198066\n"
     ]
    }
   ],
   "source": [
    "# calculamos las bondad del ajuste para los datos de test y de entrenamiento\n",
    "ajuste_test = modelo_rl.score(Xtest, ytest)      #coef de determinación o bondad del ajuste\n",
    "print('Bondad del ajuste con RL: ', ajuste_test)"
   ]
  },
  {
   "cell_type": "code",
   "execution_count": 17,
   "metadata": {
    "collapsed": false
   },
   "outputs": [
    {
     "name": "stdout",
     "output_type": "stream",
     "text": [
      "Bondad del ajuste con RL:  0.782576073364\n"
     ]
    }
   ],
   "source": [
    "# calculamos las bondad del ajuste para los datos de test y de entrenamiento\n",
    "ajuste_test = modelo_rl.score(Xtrain, ytrain)      #coef de determinación o bondad del ajuste\n",
    "print('Bondad del ajuste con RL: ', ajuste_test)"
   ]
  },
  {
   "cell_type": "markdown",
   "metadata": {},
   "source": [
    "## 1.2 Predicción con Arboles de decisión"
   ]
  },
  {
   "cell_type": "code",
   "execution_count": 29,
   "metadata": {
    "collapsed": false
   },
   "outputs": [],
   "source": [
    "# Importando el arbol de decisión\n",
    "from sklearn.tree import DecisionTreeClassifier\n",
    "\n",
    "# Creando el modelo. Árboles con profundidad 3\n",
    "modelo_ad = DecisionTreeClassifier(max_depth = 3 )     # Creando el modelo\n",
    "# Ajustando el modelo\n",
    "modelo_ad.fit(Xtrain, ytrain);\n"
   ]
  },
  {
   "cell_type": "code",
   "execution_count": 30,
   "metadata": {
    "collapsed": false
   },
   "outputs": [
    {
     "name": "stdout",
     "output_type": "stream",
     "text": [
      "Bondad del ajuste con Árbol de decisión:  0.956318772924\n"
     ]
    }
   ],
   "source": [
    "# calculamos las bondad del ajuste para los datos de test y de entrenamiento\n",
    "ajuste_test = modelo_ad.score(Xtest, ytest)      #coef de determinación o bondad del ajuste\n",
    "print('Bondad del ajuste con Árbol de decisión: ', ajuste_test)"
   ]
  },
  {
   "cell_type": "markdown",
   "metadata": {},
   "source": [
    "## 1.3 Predicción con Random Forest"
   ]
  },
  {
   "cell_type": "markdown",
   "metadata": {},
   "source": [
    "Uno de los métodos más populares usados por los científicos de datos es el algoritmo __Random Forest__, uno de los mejores algoritmos de clasificación, capaz de organizar grandes cantidades de datos con exactitud."
   ]
  },
  {
   "cell_type": "code",
   "execution_count": 32,
   "metadata": {
    "collapsed": false
   },
   "outputs": [],
   "source": [
    "# Importando el random forest\n",
    "from sklearn.ensemble import RandomForestClassifier\n",
    "\n",
    "# Creando el modelo\n",
    "modelo_rf = RandomForestClassifier()\n",
    "# Ajustando el modelo\n",
    "modelo_rf.fit(Xtrain, ytrain)\n",
    "\n",
    "# Realizando las predicciones\n",
    "y_predic_test = modelo_rf.predict(Xtest)\n"
   ]
  },
  {
   "cell_type": "code",
   "execution_count": 33,
   "metadata": {
    "collapsed": false
   },
   "outputs": [
    {
     "name": "stdout",
     "output_type": "stream",
     "text": [
      "Bondad del ajuste con Random Forest:  0.990996999\n"
     ]
    }
   ],
   "source": [
    "# calculamos las bondad del ajuste para los datos de test y de entrenamiento\n",
    "ajuste_test = modelo_rf.score(Xtest, ytest)      #coef de determinación o bondad del ajuste\n",
    "print('Bondad del ajuste con Random Forest: ', ajuste_test)"
   ]
  },
  {
   "cell_type": "markdown",
   "metadata": {},
   "source": [
    "Parece que el modelo Random forest ofrece mejores resultados. Además podemos conocer las características que más influyen en el modelo. \n",
    "En nuestro ejemplo tenemos 20 características: "
   ]
  },
  {
   "cell_type": "code",
   "execution_count": 22,
   "metadata": {
    "collapsed": false
   },
   "outputs": [
    {
     "data": {
      "text/plain": [
       "(14994, 20)"
      ]
     },
     "execution_count": 22,
     "metadata": {},
     "output_type": "execute_result"
    }
   ],
   "source": [
    "tabla_copy.shape"
   ]
  },
  {
   "cell_type": "code",
   "execution_count": 34,
   "metadata": {
    "collapsed": false
   },
   "outputs": [
    {
     "data": {
      "text/plain": [
       "array(['nivel_de_satisfaccion', 'ultima_encuesta', 'numero_de_proyectos',\n",
       "       'media_horas_mes ', 'horas_en_la_empresa', 'accidente_de_trabajo',\n",
       "       'promociona', 'dep_IT', 'dep_RandD', 'dep_accounting', 'dep_hr',\n",
       "       'dep_management', 'dep_marketing', 'dep_product_mng', 'dep_sales',\n",
       "       'dep_support', 'dep_technical', 'salario_high', 'salario_low',\n",
       "       'salario_medium'], dtype=object)"
      ]
     },
     "execution_count": 34,
     "metadata": {},
     "output_type": "execute_result"
    }
   ],
   "source": [
    "# nombres de las características\n",
    "caracteristicas = tabla_copy.columns.values      \n",
    "caracteristicas"
   ]
  },
  {
   "cell_type": "code",
   "execution_count": 35,
   "metadata": {
    "collapsed": false
   },
   "outputs": [
    {
     "data": {
      "text/plain": [
       "array([ 0.3061267 ,  0.1344605 ,  0.18174854,  0.14930759,  0.17395542,\n",
       "        0.01311585,  0.0017315 ,  0.00177051,  0.00230717,  0.00172482,\n",
       "        0.00140329,  0.00118625,  0.00128214,  0.00139829,  0.00438037,\n",
       "        0.00308383,  0.00372241,  0.00695768,  0.00741527,  0.00292188])"
      ]
     },
     "execution_count": 35,
     "metadata": {},
     "output_type": "execute_result"
    }
   ],
   "source": [
    "# estimación de la importancia de las características\n",
    "# el valor más alto corresponde a la característica más importante\n",
    "estimacion = modelo_rf.feature_importances_\n",
    "estimacion"
   ]
  },
  {
   "cell_type": "markdown",
   "metadata": {},
   "source": [
    "Emparejamos cada característica con su estimación:"
   ]
  },
  {
   "cell_type": "code",
   "execution_count": 40,
   "metadata": {
    "collapsed": false
   },
   "outputs": [
    {
     "data": {
      "text/html": [
       "<div>\n",
       "<table border=\"1\" class=\"dataframe\">\n",
       "  <thead>\n",
       "    <tr style=\"text-align: right;\">\n",
       "      <th></th>\n",
       "      <th>valor</th>\n",
       "    </tr>\n",
       "  </thead>\n",
       "  <tbody>\n",
       "    <tr>\n",
       "      <th>accidente_de_trabajo</th>\n",
       "      <td>0.013116</td>\n",
       "    </tr>\n",
       "    <tr>\n",
       "      <th>dep_IT</th>\n",
       "      <td>0.001771</td>\n",
       "    </tr>\n",
       "    <tr>\n",
       "      <th>dep_RandD</th>\n",
       "      <td>0.002307</td>\n",
       "    </tr>\n",
       "    <tr>\n",
       "      <th>dep_accounting</th>\n",
       "      <td>0.001725</td>\n",
       "    </tr>\n",
       "    <tr>\n",
       "      <th>dep_hr</th>\n",
       "      <td>0.001403</td>\n",
       "    </tr>\n",
       "    <tr>\n",
       "      <th>dep_management</th>\n",
       "      <td>0.001186</td>\n",
       "    </tr>\n",
       "    <tr>\n",
       "      <th>dep_marketing</th>\n",
       "      <td>0.001282</td>\n",
       "    </tr>\n",
       "    <tr>\n",
       "      <th>dep_product_mng</th>\n",
       "      <td>0.001398</td>\n",
       "    </tr>\n",
       "    <tr>\n",
       "      <th>dep_sales</th>\n",
       "      <td>0.004380</td>\n",
       "    </tr>\n",
       "    <tr>\n",
       "      <th>dep_support</th>\n",
       "      <td>0.003084</td>\n",
       "    </tr>\n",
       "    <tr>\n",
       "      <th>dep_technical</th>\n",
       "      <td>0.003722</td>\n",
       "    </tr>\n",
       "    <tr>\n",
       "      <th>horas_en_la_empresa</th>\n",
       "      <td>0.173955</td>\n",
       "    </tr>\n",
       "    <tr>\n",
       "      <th>media_horas_mes</th>\n",
       "      <td>0.149308</td>\n",
       "    </tr>\n",
       "    <tr>\n",
       "      <th>nivel_de_satisfaccion</th>\n",
       "      <td>0.306127</td>\n",
       "    </tr>\n",
       "    <tr>\n",
       "      <th>numero_de_proyectos</th>\n",
       "      <td>0.181749</td>\n",
       "    </tr>\n",
       "    <tr>\n",
       "      <th>promociona</th>\n",
       "      <td>0.001732</td>\n",
       "    </tr>\n",
       "    <tr>\n",
       "      <th>salario_high</th>\n",
       "      <td>0.006958</td>\n",
       "    </tr>\n",
       "    <tr>\n",
       "      <th>salario_low</th>\n",
       "      <td>0.007415</td>\n",
       "    </tr>\n",
       "    <tr>\n",
       "      <th>salario_medium</th>\n",
       "      <td>0.002922</td>\n",
       "    </tr>\n",
       "    <tr>\n",
       "      <th>ultima_encuesta</th>\n",
       "      <td>0.134460</td>\n",
       "    </tr>\n",
       "  </tbody>\n",
       "</table>\n",
       "</div>"
      ],
      "text/plain": [
       "                          valor\n",
       "accidente_de_trabajo   0.013116\n",
       "dep_IT                 0.001771\n",
       "dep_RandD              0.002307\n",
       "dep_accounting         0.001725\n",
       "dep_hr                 0.001403\n",
       "dep_management         0.001186\n",
       "dep_marketing          0.001282\n",
       "dep_product_mng        0.001398\n",
       "dep_sales              0.004380\n",
       "dep_support            0.003084\n",
       "dep_technical          0.003722\n",
       "horas_en_la_empresa    0.173955\n",
       "media_horas_mes        0.149308\n",
       "nivel_de_satisfaccion  0.306127\n",
       "numero_de_proyectos    0.181749\n",
       "promociona             0.001732\n",
       "salario_high           0.006958\n",
       "salario_low            0.007415\n",
       "salario_medium         0.002922\n",
       "ultima_encuesta        0.134460"
      ]
     },
     "execution_count": 40,
     "metadata": {},
     "output_type": "execute_result"
    }
   ],
   "source": [
    "estimaciones = dict(zip(caracteristicas, estimacion))\n",
    "estimaciones\n",
    "valores = pd.DataFrame(estimaciones, index = ['valor'])\n",
    "valores = valores.T\n",
    "valores"
   ]
  },
  {
   "cell_type": "code",
   "execution_count": 39,
   "metadata": {
    "collapsed": false
   },
   "outputs": [
    {
     "data": {
      "image/png": "[encoded data removed]",
      "text/plain": [
       "<matplotlib.figure.Figure at 0x1c5ef0bb5f8>"
      ]
     },
     "metadata": {},
     "output_type": "display_data"
    }
   ],
   "source": [
    "#f, ax = plt.figure(figsize=(5, 8))\n",
    "valores.plot(kind = 'bar',  \n",
    "             width = 0.3  ,         #anchura de las barras\n",
    "             align = 'center'\n",
    "             )\n",
    "plt.title('Estimación importancia - Random Forest')\n",
    "plt.ylabel('Importancia estimada')\n",
    "plt.xlabel('Características')\n",
    "plt.legend(loc='best')\n",
    "plt.tight_layout();\n"
   ]
  },
  {
   "cell_type": "code",
   "execution_count": null,
   "metadata": {
    "collapsed": true
   },
   "outputs": [],
   "source": []
  },
  {
   "cell_type": "code",
   "execution_count": null,
   "metadata": {
    "collapsed": false
   },
   "outputs": [],
   "source": []
  },
  {
   "cell_type": "code",
   "execution_count": null,
   "metadata": {
    "collapsed": true
   },
   "outputs": [],
   "source": []
  },
  {
   "cell_type": "markdown",
   "metadata": {},
   "source": [
    "# References\n",
    "\n"
   ]
  },
  {
   "cell_type": "markdown",
   "metadata": {},
   "source": [
    "* [Python Data Analysis Library](http://pandas.pydata.org/)\n",
    "* [Python for Data Analysis](http://shop.oreilly.com/product/0636920023784.do)\n"
   ]
  }
 ],
 "metadata": {
  "anaconda-cloud": {},
  "kernelspec": {
   "display_name": "Python [default]",
   "language": "python",
   "name": "python3"
  },
  "language_info": {
   "codemirror_mode": {
    "name": "ipython",
    "version": 3
   },
   "file_extension": ".py",
   "mimetype": "text/x-python",
   "name": "python",
   "nbconvert_exporter": "python",
   "pygments_lexer": "ipython3",
   "version": "3.5.2"
  }
 },
 "nbformat": 4,
 "nbformat_minor": 0
}
